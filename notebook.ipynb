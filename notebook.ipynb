{
 "cells": [
  {
   "cell_type": "markdown",
   "metadata": {
    "id": "H9wADwK78DCz"
   },
   "source": [
    "# Proyek Analisis Data: E-Commerce Public Dataset\n",
    "- **Nama:** Bima Adityo Kurniawan\n",
    "- **Email:** bimaadityokurniawan@gmail.com\n",
    "- **ID Dicoding:** naozumi"
   ]
  },
  {
   "cell_type": "markdown",
   "metadata": {
    "id": "eE0raob58DC0"
   },
   "source": [
    "## Menentukan Pertanyaan Bisnis"
   ]
  },
  {
   "cell_type": "markdown",
   "metadata": {
    "id": "GmQeQ5YF8DC0"
   },
   "source": [
    "- Berapa lama pelanggan harus menunggu untuk menerima pesanan barang yang dibeli?\n",
    "- Apakah korelasi antara nilai ulasan terhadap waktu pengiriman barang?"
   ]
  },
  {
   "cell_type": "markdown",
   "metadata": {
    "id": "H-z4QGlO8DC1"
   },
   "source": [
    "## Import Semua Packages/Library yang Digunakan"
   ]
  },
  {
   "cell_type": "code",
   "execution_count": 1,
   "metadata": {
    "id": "FVYwaObI8DC1"
   },
   "outputs": [],
   "source": [
    "import numpy as np\n",
    "import pandas as pd\n",
    "import matplotlib.pyplot as plt\n",
    "import seaborn as sns"
   ]
  },
  {
   "cell_type": "markdown",
   "metadata": {
    "id": "h_Sh51Xy8DC1"
   },
   "source": [
    "## Data Wrangling"
   ]
  },
  {
   "cell_type": "markdown",
   "metadata": {
    "id": "sXU2GBYu8DC1"
   },
   "source": [
    "### Gathering Data"
   ]
  },
  {
   "cell_type": "markdown",
   "metadata": {},
   "source": [
    "Mengumpulkan data dari berbagai sumber (dalam hal ini, data e-commerce dari Kaggle) yang relevan untuk analisis lebih lanjut. Dataset yang akan diambil hanya ada 2 saja untuk menjawab pertanyaan bisnis."
   ]
  },
  {
   "cell_type": "code",
   "execution_count": 2,
   "metadata": {},
   "outputs": [
    {
     "data": {
      "text/html": [
       "<div>\n",
       "<style scoped>\n",
       "    .dataframe tbody tr th:only-of-type {\n",
       "        vertical-align: middle;\n",
       "    }\n",
       "\n",
       "    .dataframe tbody tr th {\n",
       "        vertical-align: top;\n",
       "    }\n",
       "\n",
       "    .dataframe thead th {\n",
       "        text-align: right;\n",
       "    }\n",
       "</style>\n",
       "<table border=\"1\" class=\"dataframe\">\n",
       "  <thead>\n",
       "    <tr style=\"text-align: right;\">\n",
       "      <th></th>\n",
       "      <th>review_id</th>\n",
       "      <th>order_id</th>\n",
       "      <th>review_score</th>\n",
       "      <th>review_comment_title</th>\n",
       "      <th>review_comment_message</th>\n",
       "      <th>review_creation_date</th>\n",
       "      <th>review_answer_timestamp</th>\n",
       "    </tr>\n",
       "  </thead>\n",
       "  <tbody>\n",
       "    <tr>\n",
       "      <th>0</th>\n",
       "      <td>7bc2406110b926393aa56f80a40eba40</td>\n",
       "      <td>73fc7af87114b39712e6da79b0a377eb</td>\n",
       "      <td>4</td>\n",
       "      <td>NaN</td>\n",
       "      <td>NaN</td>\n",
       "      <td>2018-01-18 00:00:00</td>\n",
       "      <td>2018-01-18 21:46:59</td>\n",
       "    </tr>\n",
       "    <tr>\n",
       "      <th>1</th>\n",
       "      <td>80e641a11e56f04c1ad469d5645fdfde</td>\n",
       "      <td>a548910a1c6147796b98fdf73dbeba33</td>\n",
       "      <td>5</td>\n",
       "      <td>NaN</td>\n",
       "      <td>NaN</td>\n",
       "      <td>2018-03-10 00:00:00</td>\n",
       "      <td>2018-03-11 03:05:13</td>\n",
       "    </tr>\n",
       "    <tr>\n",
       "      <th>2</th>\n",
       "      <td>228ce5500dc1d8e020d8d1322874b6f0</td>\n",
       "      <td>f9e4b658b201a9f2ecdecbb34bed034b</td>\n",
       "      <td>5</td>\n",
       "      <td>NaN</td>\n",
       "      <td>NaN</td>\n",
       "      <td>2018-02-17 00:00:00</td>\n",
       "      <td>2018-02-18 14:36:24</td>\n",
       "    </tr>\n",
       "    <tr>\n",
       "      <th>3</th>\n",
       "      <td>e64fb393e7b32834bb789ff8bb30750e</td>\n",
       "      <td>658677c97b385a9be170737859d3511b</td>\n",
       "      <td>5</td>\n",
       "      <td>NaN</td>\n",
       "      <td>Recebi bem antes do prazo estipulado.</td>\n",
       "      <td>2017-04-21 00:00:00</td>\n",
       "      <td>2017-04-21 22:02:06</td>\n",
       "    </tr>\n",
       "    <tr>\n",
       "      <th>4</th>\n",
       "      <td>f7c4243c7fe1938f181bec41a392bdeb</td>\n",
       "      <td>8e6bfb81e283fa7e4f11123a3fb894f1</td>\n",
       "      <td>5</td>\n",
       "      <td>NaN</td>\n",
       "      <td>Parabéns lojas lannister adorei comprar pela I...</td>\n",
       "      <td>2018-03-01 00:00:00</td>\n",
       "      <td>2018-03-02 10:26:53</td>\n",
       "    </tr>\n",
       "  </tbody>\n",
       "</table>\n",
       "</div>"
      ],
      "text/plain": [
       "                          review_id                          order_id  \\\n",
       "0  7bc2406110b926393aa56f80a40eba40  73fc7af87114b39712e6da79b0a377eb   \n",
       "1  80e641a11e56f04c1ad469d5645fdfde  a548910a1c6147796b98fdf73dbeba33   \n",
       "2  228ce5500dc1d8e020d8d1322874b6f0  f9e4b658b201a9f2ecdecbb34bed034b   \n",
       "3  e64fb393e7b32834bb789ff8bb30750e  658677c97b385a9be170737859d3511b   \n",
       "4  f7c4243c7fe1938f181bec41a392bdeb  8e6bfb81e283fa7e4f11123a3fb894f1   \n",
       "\n",
       "   review_score review_comment_title  \\\n",
       "0             4                  NaN   \n",
       "1             5                  NaN   \n",
       "2             5                  NaN   \n",
       "3             5                  NaN   \n",
       "4             5                  NaN   \n",
       "\n",
       "                              review_comment_message review_creation_date  \\\n",
       "0                                                NaN  2018-01-18 00:00:00   \n",
       "1                                                NaN  2018-03-10 00:00:00   \n",
       "2                                                NaN  2018-02-17 00:00:00   \n",
       "3              Recebi bem antes do prazo estipulado.  2017-04-21 00:00:00   \n",
       "4  Parabéns lojas lannister adorei comprar pela I...  2018-03-01 00:00:00   \n",
       "\n",
       "  review_answer_timestamp  \n",
       "0     2018-01-18 21:46:59  \n",
       "1     2018-03-11 03:05:13  \n",
       "2     2018-02-18 14:36:24  \n",
       "3     2017-04-21 22:02:06  \n",
       "4     2018-03-02 10:26:53  "
      ]
     },
     "execution_count": 2,
     "metadata": {},
     "output_type": "execute_result"
    }
   ],
   "source": [
    "order_reviews_df = pd.read_csv(\"dataset/order_reviews_dataset.csv\")\n",
    "order_reviews_df.head()"
   ]
  },
  {
   "cell_type": "code",
   "execution_count": 3,
   "metadata": {},
   "outputs": [
    {
     "data": {
      "text/html": [
       "<div>\n",
       "<style scoped>\n",
       "    .dataframe tbody tr th:only-of-type {\n",
       "        vertical-align: middle;\n",
       "    }\n",
       "\n",
       "    .dataframe tbody tr th {\n",
       "        vertical-align: top;\n",
       "    }\n",
       "\n",
       "    .dataframe thead th {\n",
       "        text-align: right;\n",
       "    }\n",
       "</style>\n",
       "<table border=\"1\" class=\"dataframe\">\n",
       "  <thead>\n",
       "    <tr style=\"text-align: right;\">\n",
       "      <th></th>\n",
       "      <th>order_id</th>\n",
       "      <th>customer_id</th>\n",
       "      <th>order_status</th>\n",
       "      <th>order_purchase_timestamp</th>\n",
       "      <th>order_approved_at</th>\n",
       "      <th>order_delivered_carrier_date</th>\n",
       "      <th>order_delivered_customer_date</th>\n",
       "      <th>order_estimated_delivery_date</th>\n",
       "    </tr>\n",
       "  </thead>\n",
       "  <tbody>\n",
       "    <tr>\n",
       "      <th>0</th>\n",
       "      <td>e481f51cbdc54678b7cc49136f2d6af7</td>\n",
       "      <td>9ef432eb6251297304e76186b10a928d</td>\n",
       "      <td>delivered</td>\n",
       "      <td>2017-10-02 10:56:33</td>\n",
       "      <td>2017-10-02 11:07:15</td>\n",
       "      <td>2017-10-04 19:55:00</td>\n",
       "      <td>2017-10-10 21:25:13</td>\n",
       "      <td>2017-10-18 00:00:00</td>\n",
       "    </tr>\n",
       "    <tr>\n",
       "      <th>1</th>\n",
       "      <td>53cdb2fc8bc7dce0b6741e2150273451</td>\n",
       "      <td>b0830fb4747a6c6d20dea0b8c802d7ef</td>\n",
       "      <td>delivered</td>\n",
       "      <td>2018-07-24 20:41:37</td>\n",
       "      <td>2018-07-26 03:24:27</td>\n",
       "      <td>2018-07-26 14:31:00</td>\n",
       "      <td>2018-08-07 15:27:45</td>\n",
       "      <td>2018-08-13 00:00:00</td>\n",
       "    </tr>\n",
       "    <tr>\n",
       "      <th>2</th>\n",
       "      <td>47770eb9100c2d0c44946d9cf07ec65d</td>\n",
       "      <td>41ce2a54c0b03bf3443c3d931a367089</td>\n",
       "      <td>delivered</td>\n",
       "      <td>2018-08-08 08:38:49</td>\n",
       "      <td>2018-08-08 08:55:23</td>\n",
       "      <td>2018-08-08 13:50:00</td>\n",
       "      <td>2018-08-17 18:06:29</td>\n",
       "      <td>2018-09-04 00:00:00</td>\n",
       "    </tr>\n",
       "    <tr>\n",
       "      <th>3</th>\n",
       "      <td>949d5b44dbf5de918fe9c16f97b45f8a</td>\n",
       "      <td>f88197465ea7920adcdbec7375364d82</td>\n",
       "      <td>delivered</td>\n",
       "      <td>2017-11-18 19:28:06</td>\n",
       "      <td>2017-11-18 19:45:59</td>\n",
       "      <td>2017-11-22 13:39:59</td>\n",
       "      <td>2017-12-02 00:28:42</td>\n",
       "      <td>2017-12-15 00:00:00</td>\n",
       "    </tr>\n",
       "    <tr>\n",
       "      <th>4</th>\n",
       "      <td>ad21c59c0840e6cb83a9ceb5573f8159</td>\n",
       "      <td>8ab97904e6daea8866dbdbc4fb7aad2c</td>\n",
       "      <td>delivered</td>\n",
       "      <td>2018-02-13 21:18:39</td>\n",
       "      <td>2018-02-13 22:20:29</td>\n",
       "      <td>2018-02-14 19:46:34</td>\n",
       "      <td>2018-02-16 18:17:02</td>\n",
       "      <td>2018-02-26 00:00:00</td>\n",
       "    </tr>\n",
       "  </tbody>\n",
       "</table>\n",
       "</div>"
      ],
      "text/plain": [
       "                           order_id                       customer_id  \\\n",
       "0  e481f51cbdc54678b7cc49136f2d6af7  9ef432eb6251297304e76186b10a928d   \n",
       "1  53cdb2fc8bc7dce0b6741e2150273451  b0830fb4747a6c6d20dea0b8c802d7ef   \n",
       "2  47770eb9100c2d0c44946d9cf07ec65d  41ce2a54c0b03bf3443c3d931a367089   \n",
       "3  949d5b44dbf5de918fe9c16f97b45f8a  f88197465ea7920adcdbec7375364d82   \n",
       "4  ad21c59c0840e6cb83a9ceb5573f8159  8ab97904e6daea8866dbdbc4fb7aad2c   \n",
       "\n",
       "  order_status order_purchase_timestamp    order_approved_at  \\\n",
       "0    delivered      2017-10-02 10:56:33  2017-10-02 11:07:15   \n",
       "1    delivered      2018-07-24 20:41:37  2018-07-26 03:24:27   \n",
       "2    delivered      2018-08-08 08:38:49  2018-08-08 08:55:23   \n",
       "3    delivered      2017-11-18 19:28:06  2017-11-18 19:45:59   \n",
       "4    delivered      2018-02-13 21:18:39  2018-02-13 22:20:29   \n",
       "\n",
       "  order_delivered_carrier_date order_delivered_customer_date  \\\n",
       "0          2017-10-04 19:55:00           2017-10-10 21:25:13   \n",
       "1          2018-07-26 14:31:00           2018-08-07 15:27:45   \n",
       "2          2018-08-08 13:50:00           2018-08-17 18:06:29   \n",
       "3          2017-11-22 13:39:59           2017-12-02 00:28:42   \n",
       "4          2018-02-14 19:46:34           2018-02-16 18:17:02   \n",
       "\n",
       "  order_estimated_delivery_date  \n",
       "0           2017-10-18 00:00:00  \n",
       "1           2018-08-13 00:00:00  \n",
       "2           2018-09-04 00:00:00  \n",
       "3           2017-12-15 00:00:00  \n",
       "4           2018-02-26 00:00:00  "
      ]
     },
     "execution_count": 3,
     "metadata": {},
     "output_type": "execute_result"
    }
   ],
   "source": [
    "orders_df = pd.read_csv(\"dataset/orders_dataset.csv\")\n",
    "orders_df.head()"
   ]
  },
  {
   "cell_type": "markdown",
   "metadata": {
    "id": "MMi6xGaDkbCi"
   },
   "source": [
    "**Insight:**\n",
    "- xxx"
   ]
  },
  {
   "cell_type": "markdown",
   "metadata": {
    "id": "FHSiqaZp8DC1"
   },
   "source": [
    "### Assessing Data"
   ]
  },
  {
   "cell_type": "markdown",
   "metadata": {},
   "source": [
    "Mengevaluasi kualitas data sebelum dianalisis lebih lanjut. Ini mencakup identifikasi missing values (nilai hilang), duplicate data (data duplikat), data type issues (jenis data yang tidak sesuai), serta outliers (pencilan) atau inconsistent values (nilai yang tidak konsisten). Tujuan dari tahap ini adalah memastikan bahwa data yang digunakan bersih, akurat, dan dapat diandalkan untuk analisis."
   ]
  },
  {
   "cell_type": "markdown",
   "metadata": {},
   "source": [
    "**Pengecekan Tipe Data**"
   ]
  },
  {
   "cell_type": "code",
   "execution_count": 4,
   "metadata": {},
   "outputs": [
    {
     "name": "stdout",
     "output_type": "stream",
     "text": [
      "<class 'pandas.core.frame.DataFrame'>\n",
      "RangeIndex: 99224 entries, 0 to 99223\n",
      "Data columns (total 7 columns):\n",
      " #   Column                   Non-Null Count  Dtype \n",
      "---  ------                   --------------  ----- \n",
      " 0   review_id                99224 non-null  object\n",
      " 1   order_id                 99224 non-null  object\n",
      " 2   review_score             99224 non-null  int64 \n",
      " 3   review_comment_title     11568 non-null  object\n",
      " 4   review_comment_message   40977 non-null  object\n",
      " 5   review_creation_date     99224 non-null  object\n",
      " 6   review_answer_timestamp  99224 non-null  object\n",
      "dtypes: int64(1), object(6)\n",
      "memory usage: 5.3+ MB\n",
      "<class 'pandas.core.frame.DataFrame'>\n",
      "RangeIndex: 99441 entries, 0 to 99440\n",
      "Data columns (total 8 columns):\n",
      " #   Column                         Non-Null Count  Dtype \n",
      "---  ------                         --------------  ----- \n",
      " 0   order_id                       99441 non-null  object\n",
      " 1   customer_id                    99441 non-null  object\n",
      " 2   order_status                   99441 non-null  object\n",
      " 3   order_purchase_timestamp       99441 non-null  object\n",
      " 4   order_approved_at              99281 non-null  object\n",
      " 5   order_delivered_carrier_date   97658 non-null  object\n",
      " 6   order_delivered_customer_date  96476 non-null  object\n",
      " 7   order_estimated_delivery_date  99441 non-null  object\n",
      "dtypes: object(8)\n",
      "memory usage: 6.1+ MB\n"
     ]
    }
   ],
   "source": [
    "order_reviews_df.info()\n",
    "orders_df.info()"
   ]
  },
  {
   "cell_type": "markdown",
   "metadata": {},
   "source": [
    "**Pengecekan Data Duplikat**"
   ]
  },
  {
   "cell_type": "code",
   "execution_count": 5,
   "metadata": {},
   "outputs": [
    {
     "name": "stdout",
     "output_type": "stream",
     "text": [
      "Jumlah duplikasi reviews_df:  0\n",
      "Jumlah duplikasi orders_df:  0\n"
     ]
    }
   ],
   "source": [
    "print(\"Jumlah duplikasi reviews_df: \", order_reviews_df.duplicated().sum())\n",
    "print(\"Jumlah duplikasi orders_df: \", orders_df.duplicated().sum())"
   ]
  },
  {
   "cell_type": "markdown",
   "metadata": {},
   "source": [
    "**Pengecekan Missing Values**"
   ]
  },
  {
   "cell_type": "code",
   "execution_count": 6,
   "metadata": {},
   "outputs": [
    {
     "data": {
      "text/plain": [
       "review_id                      0\n",
       "order_id                       0\n",
       "review_score                   0\n",
       "review_comment_title       87656\n",
       "review_comment_message     58247\n",
       "review_creation_date           0\n",
       "review_answer_timestamp        0\n",
       "dtype: int64"
      ]
     },
     "execution_count": 6,
     "metadata": {},
     "output_type": "execute_result"
    }
   ],
   "source": [
    "order_reviews_df.isna().sum()"
   ]
  },
  {
   "cell_type": "markdown",
   "metadata": {},
   "source": [
    "Terdapat missing value pada comment title dan message"
   ]
  },
  {
   "cell_type": "code",
   "execution_count": 7,
   "metadata": {},
   "outputs": [
    {
     "data": {
      "text/plain": [
       "order_id                            0\n",
       "customer_id                         0\n",
       "order_status                        0\n",
       "order_purchase_timestamp            0\n",
       "order_approved_at                 160\n",
       "order_delivered_carrier_date     1783\n",
       "order_delivered_customer_date    2965\n",
       "order_estimated_delivery_date       0\n",
       "dtype: int64"
      ]
     },
     "execution_count": 7,
     "metadata": {},
     "output_type": "execute_result"
    }
   ],
   "source": [
    "orders_df.isna().sum()"
   ]
  },
  {
   "cell_type": "markdown",
   "metadata": {},
   "source": [
    "Terdapat missing value pada tanggal order_approved, delivered_carrier dan delivered_customer"
   ]
  },
  {
   "cell_type": "markdown",
   "metadata": {},
   "source": [
    "**Pengecekan Outlier**"
   ]
  },
  {
   "cell_type": "code",
   "execution_count": 8,
   "metadata": {},
   "outputs": [
    {
     "data": {
      "text/html": [
       "<div>\n",
       "<style scoped>\n",
       "    .dataframe tbody tr th:only-of-type {\n",
       "        vertical-align: middle;\n",
       "    }\n",
       "\n",
       "    .dataframe tbody tr th {\n",
       "        vertical-align: top;\n",
       "    }\n",
       "\n",
       "    .dataframe thead th {\n",
       "        text-align: right;\n",
       "    }\n",
       "</style>\n",
       "<table border=\"1\" class=\"dataframe\">\n",
       "  <thead>\n",
       "    <tr style=\"text-align: right;\">\n",
       "      <th></th>\n",
       "      <th>review_score</th>\n",
       "    </tr>\n",
       "  </thead>\n",
       "  <tbody>\n",
       "    <tr>\n",
       "      <th>count</th>\n",
       "      <td>99224.000000</td>\n",
       "    </tr>\n",
       "    <tr>\n",
       "      <th>mean</th>\n",
       "      <td>4.086421</td>\n",
       "    </tr>\n",
       "    <tr>\n",
       "      <th>std</th>\n",
       "      <td>1.347579</td>\n",
       "    </tr>\n",
       "    <tr>\n",
       "      <th>min</th>\n",
       "      <td>1.000000</td>\n",
       "    </tr>\n",
       "    <tr>\n",
       "      <th>25%</th>\n",
       "      <td>4.000000</td>\n",
       "    </tr>\n",
       "    <tr>\n",
       "      <th>50%</th>\n",
       "      <td>5.000000</td>\n",
       "    </tr>\n",
       "    <tr>\n",
       "      <th>75%</th>\n",
       "      <td>5.000000</td>\n",
       "    </tr>\n",
       "    <tr>\n",
       "      <th>max</th>\n",
       "      <td>5.000000</td>\n",
       "    </tr>\n",
       "  </tbody>\n",
       "</table>\n",
       "</div>"
      ],
      "text/plain": [
       "       review_score\n",
       "count  99224.000000\n",
       "mean       4.086421\n",
       "std        1.347579\n",
       "min        1.000000\n",
       "25%        4.000000\n",
       "50%        5.000000\n",
       "75%        5.000000\n",
       "max        5.000000"
      ]
     },
     "execution_count": 8,
     "metadata": {},
     "output_type": "execute_result"
    }
   ],
   "source": [
    "order_reviews_df.describe()"
   ]
  },
  {
   "cell_type": "markdown",
   "metadata": {},
   "source": [
    "Tidak ada nilai outlier untuk ulasan"
   ]
  },
  {
   "cell_type": "code",
   "execution_count": 9,
   "metadata": {},
   "outputs": [
    {
     "data": {
      "text/html": [
       "<div>\n",
       "<style scoped>\n",
       "    .dataframe tbody tr th:only-of-type {\n",
       "        vertical-align: middle;\n",
       "    }\n",
       "\n",
       "    .dataframe tbody tr th {\n",
       "        vertical-align: top;\n",
       "    }\n",
       "\n",
       "    .dataframe thead th {\n",
       "        text-align: right;\n",
       "    }\n",
       "</style>\n",
       "<table border=\"1\" class=\"dataframe\">\n",
       "  <thead>\n",
       "    <tr style=\"text-align: right;\">\n",
       "      <th></th>\n",
       "      <th>order_id</th>\n",
       "      <th>customer_id</th>\n",
       "      <th>order_status</th>\n",
       "      <th>order_purchase_timestamp</th>\n",
       "      <th>order_approved_at</th>\n",
       "      <th>order_delivered_carrier_date</th>\n",
       "      <th>order_delivered_customer_date</th>\n",
       "      <th>order_estimated_delivery_date</th>\n",
       "    </tr>\n",
       "  </thead>\n",
       "  <tbody>\n",
       "    <tr>\n",
       "      <th>count</th>\n",
       "      <td>99441</td>\n",
       "      <td>99441</td>\n",
       "      <td>99441</td>\n",
       "      <td>99441</td>\n",
       "      <td>99281</td>\n",
       "      <td>97658</td>\n",
       "      <td>96476</td>\n",
       "      <td>99441</td>\n",
       "    </tr>\n",
       "    <tr>\n",
       "      <th>unique</th>\n",
       "      <td>99441</td>\n",
       "      <td>99441</td>\n",
       "      <td>8</td>\n",
       "      <td>98875</td>\n",
       "      <td>90733</td>\n",
       "      <td>81018</td>\n",
       "      <td>95664</td>\n",
       "      <td>459</td>\n",
       "    </tr>\n",
       "    <tr>\n",
       "      <th>top</th>\n",
       "      <td>66dea50a8b16d9b4dee7af250b4be1a5</td>\n",
       "      <td>edb027a75a1449115f6b43211ae02a24</td>\n",
       "      <td>delivered</td>\n",
       "      <td>2018-08-02 12:05:26</td>\n",
       "      <td>2018-02-27 04:31:10</td>\n",
       "      <td>2018-05-09 15:48:00</td>\n",
       "      <td>2018-05-08 19:36:48</td>\n",
       "      <td>2017-12-20 00:00:00</td>\n",
       "    </tr>\n",
       "    <tr>\n",
       "      <th>freq</th>\n",
       "      <td>1</td>\n",
       "      <td>1</td>\n",
       "      <td>96478</td>\n",
       "      <td>3</td>\n",
       "      <td>9</td>\n",
       "      <td>47</td>\n",
       "      <td>3</td>\n",
       "      <td>522</td>\n",
       "    </tr>\n",
       "  </tbody>\n",
       "</table>\n",
       "</div>"
      ],
      "text/plain": [
       "                                order_id                       customer_id  \\\n",
       "count                              99441                             99441   \n",
       "unique                             99441                             99441   \n",
       "top     66dea50a8b16d9b4dee7af250b4be1a5  edb027a75a1449115f6b43211ae02a24   \n",
       "freq                                   1                                 1   \n",
       "\n",
       "       order_status order_purchase_timestamp    order_approved_at  \\\n",
       "count         99441                    99441                99281   \n",
       "unique            8                    98875                90733   \n",
       "top       delivered      2018-08-02 12:05:26  2018-02-27 04:31:10   \n",
       "freq          96478                        3                    9   \n",
       "\n",
       "       order_delivered_carrier_date order_delivered_customer_date  \\\n",
       "count                         97658                         96476   \n",
       "unique                        81018                         95664   \n",
       "top             2018-05-09 15:48:00           2018-05-08 19:36:48   \n",
       "freq                             47                             3   \n",
       "\n",
       "       order_estimated_delivery_date  \n",
       "count                          99441  \n",
       "unique                           459  \n",
       "top              2017-12-20 00:00:00  \n",
       "freq                             522  "
      ]
     },
     "execution_count": 9,
     "metadata": {},
     "output_type": "execute_result"
    }
   ],
   "source": [
    "orders_df.describe()"
   ]
  },
  {
   "cell_type": "markdown",
   "metadata": {},
   "source": [
    "Terdapat keanehan pada pembelian 2018 namun estimated delivery date 2017"
   ]
  },
  {
   "cell_type": "markdown",
   "metadata": {
    "id": "7dtxhAPrkhPL"
   },
   "source": [
    "**Insight:**\n",
    "- Terdapat missing value pada title dan komentar review pada order_reviews_df\n",
    "- Terdapat missing value pada orders_df\n",
    "- Tipe data yang berkaitan dengan waktu masih menggunakan tipe object"
   ]
  },
  {
   "cell_type": "markdown",
   "metadata": {
    "id": "EhN5R4hr8DC1"
   },
   "source": [
    "### Cleaning Data"
   ]
  },
  {
   "cell_type": "markdown",
   "metadata": {},
   "source": [
    "**order_reviews**"
   ]
  },
  {
   "cell_type": "markdown",
   "metadata": {},
   "source": [
    "Karena lazim bagi pelanggan untuk memberikan rating tanpa menulis ulasan di e-commerce, nilai null pada **review_comment_title** akan diisi dengan **\"No Title\"** dan pada **review_comment_message** akan diisi dengan **\"No Comment\"**. Pendekatan ini memastikan bahwa semua data tetap tersedia tanpa menghilangkan informasi dari review yang hanya berupa rating. Dengan cara ini, analisis tetap dapat dilakukan secara menyeluruh tanpa mengurangi jumlah data yang signifikan."
   ]
  },
  {
   "cell_type": "code",
   "execution_count": 10,
   "metadata": {},
   "outputs": [
    {
     "data": {
      "text/plain": [
       "review_id                  0\n",
       "order_id                   0\n",
       "review_score               0\n",
       "review_comment_title       0\n",
       "review_comment_message     0\n",
       "review_creation_date       0\n",
       "review_answer_timestamp    0\n",
       "dtype: int64"
      ]
     },
     "execution_count": 10,
     "metadata": {},
     "output_type": "execute_result"
    }
   ],
   "source": [
    "order_reviews_df.fillna({ \"review_comment_title\": \"No Title\"}, inplace=True)\n",
    "order_reviews_df.fillna({ \"review_comment_message\": \"No Comment\"}, inplace=True)\n",
    "order_reviews_df.isna().sum()"
   ]
  },
  {
   "cell_type": "markdown",
   "metadata": {},
   "source": [
    "**Data Type Waktu**"
   ]
  },
  {
   "cell_type": "markdown",
   "metadata": {},
   "source": [
    "Semua kolom waktu pada order_reviews_df dan orders_df yang bertipe object:\n",
    "\n",
    "- review_creation_date\n",
    "- review_answer_timestamp\n",
    "- order_purchase_timestamp\n",
    "- order_approved_at\n",
    "- order_delivered_carrier_date\n",
    "- order_delivered_customer_date\n",
    "- order_estimated_delivery_date\n",
    "\n",
    "seharusnya bertipe datetime, bukan object. Jika tetap dalam format object, tidak bisa melakukan operasi perhitungan waktu seperti menghitung lama pengiriman atau perbedaan antara tanggal pesanan dibuat dan disetujui."
   ]
  },
  {
   "cell_type": "code",
   "execution_count": 11,
   "metadata": {},
   "outputs": [
    {
     "name": "stdout",
     "output_type": "stream",
     "text": [
      "<class 'pandas.core.frame.DataFrame'>\n",
      "RangeIndex: 99224 entries, 0 to 99223\n",
      "Data columns (total 7 columns):\n",
      " #   Column                   Non-Null Count  Dtype         \n",
      "---  ------                   --------------  -----         \n",
      " 0   review_id                99224 non-null  object        \n",
      " 1   order_id                 99224 non-null  object        \n",
      " 2   review_score             99224 non-null  int64         \n",
      " 3   review_comment_title     99224 non-null  object        \n",
      " 4   review_comment_message   99224 non-null  object        \n",
      " 5   review_creation_date     99224 non-null  datetime64[ns]\n",
      " 6   review_answer_timestamp  99224 non-null  datetime64[ns]\n",
      "dtypes: datetime64[ns](2), int64(1), object(4)\n",
      "memory usage: 5.3+ MB\n"
     ]
    }
   ],
   "source": [
    "order_reviews_df[\"review_creation_date\"] = pd.to_datetime(order_reviews_df[\"review_creation_date\"])\n",
    "order_reviews_df[\"review_answer_timestamp\"] = pd.to_datetime(order_reviews_df[\"review_answer_timestamp\"])\n",
    "order_reviews_df.info()"
   ]
  },
  {
   "cell_type": "code",
   "execution_count": 12,
   "metadata": {},
   "outputs": [
    {
     "name": "stdout",
     "output_type": "stream",
     "text": [
      "<class 'pandas.core.frame.DataFrame'>\n",
      "RangeIndex: 99441 entries, 0 to 99440\n",
      "Data columns (total 8 columns):\n",
      " #   Column                         Non-Null Count  Dtype         \n",
      "---  ------                         --------------  -----         \n",
      " 0   order_id                       99441 non-null  object        \n",
      " 1   customer_id                    99441 non-null  object        \n",
      " 2   order_status                   99441 non-null  object        \n",
      " 3   order_purchase_timestamp       99441 non-null  datetime64[ns]\n",
      " 4   order_approved_at              99281 non-null  datetime64[ns]\n",
      " 5   order_delivered_carrier_date   97658 non-null  datetime64[ns]\n",
      " 6   order_delivered_customer_date  96476 non-null  datetime64[ns]\n",
      " 7   order_estimated_delivery_date  99441 non-null  datetime64[ns]\n",
      "dtypes: datetime64[ns](5), object(3)\n",
      "memory usage: 6.1+ MB\n"
     ]
    }
   ],
   "source": [
    "datetime_columns = [\n",
    "    \"order_purchase_timestamp\",\n",
    "    \"order_approved_at\",\n",
    "    \"order_delivered_carrier_date\",\n",
    "    \"order_delivered_customer_date\",\n",
    "    \"order_estimated_delivery_date\"\n",
    "]\n",
    "\n",
    "# Convert each column to datetime using a loop\n",
    "for col in datetime_columns:\n",
    "    orders_df[col] = pd.to_datetime(orders_df[col])\n",
    "\n",
    "orders_df.info()"
   ]
  },
  {
   "cell_type": "markdown",
   "metadata": {},
   "source": [
    "Dapat terlihat sudah diganti tipe datanya dari object menjadi datetime"
   ]
  },
  {
   "cell_type": "markdown",
   "metadata": {},
   "source": [
    "**orders**"
   ]
  },
  {
   "cell_type": "code",
   "execution_count": 13,
   "metadata": {},
   "outputs": [
    {
     "name": "stdout",
     "output_type": "stream",
     "text": [
      "order_status\n",
      "delivered      96478\n",
      "shipped         1107\n",
      "canceled         625\n",
      "unavailable      609\n",
      "invoiced         314\n",
      "processing       301\n",
      "created            5\n",
      "approved           2\n",
      "Name: count, dtype: int64\n"
     ]
    }
   ],
   "source": [
    "print(orders_df['order_status'].value_counts())"
   ]
  },
  {
   "cell_type": "markdown",
   "metadata": {},
   "source": [
    "Analisis difokuskan pada transaksi dengan status 'delivered' (97% dari total dataset) untuk memastikan keakuratan dalam mengevaluasi pengeluaran pelanggan. Nilai tanggal yang hilang pada kolom order_approved_at, order_delivered_carrier_date, dan order_delivered_customer_date terjadi karena saat pengumpulan data, beberapa pesanan masih dalam proses dan belum selesai. Penghapusan data non-delivered dilakukan untuk mendapatkan hasil analisis yang mencerminkan transaksi aktual yang telah selesai tanpa manipulasi data berlebih."
   ]
  },
  {
   "cell_type": "code",
   "execution_count": 14,
   "metadata": {},
   "outputs": [
    {
     "name": "stdout",
     "output_type": "stream",
     "text": [
      "Jumlah baris sebelum: 99441\n",
      "Jumlah baris sesudah: 96478\n",
      "Jumlah baris yang dihapus: 2963\n",
      "Persentase data yang dipertahankan: 97.02%\n"
     ]
    }
   ],
   "source": [
    "# Simpan jumlah baris sebelum filtering\n",
    "rows_before = len(orders_df)\n",
    "\n",
    "# Filter hanya pesanan dengan status delivered (inplace)\n",
    "orders_df.drop(orders_df[orders_df['order_status'] != 'delivered'].index, inplace=True)\n",
    "\n",
    "# Informasi tentang jumlah baris yang dihapus\n",
    "rows_after = len(orders_df)\n",
    "print(f\"Jumlah baris sebelum: {rows_before}\")\n",
    "print(f\"Jumlah baris sesudah: {rows_after}\")\n",
    "print(f\"Jumlah baris yang dihapus: {rows_before - rows_after}\")\n",
    "print(f\"Persentase data yang dipertahankan: {rows_after/rows_before*100:.2f}%\")"
   ]
  },
  {
   "cell_type": "code",
   "execution_count": 15,
   "metadata": {},
   "outputs": [
    {
     "name": "stdout",
     "output_type": "stream",
     "text": [
      "order_status\n",
      "delivered    96478\n",
      "Name: count, dtype: int64\n"
     ]
    },
    {
     "data": {
      "text/plain": [
       "order_id                          0\n",
       "customer_id                       0\n",
       "order_status                      0\n",
       "order_purchase_timestamp          0\n",
       "order_approved_at                14\n",
       "order_delivered_carrier_date      2\n",
       "order_delivered_customer_date     8\n",
       "order_estimated_delivery_date     0\n",
       "dtype: int64"
      ]
     },
     "execution_count": 15,
     "metadata": {},
     "output_type": "execute_result"
    }
   ],
   "source": [
    "print(orders_df['order_status'].value_counts())\n",
    "orders_df.isna().sum()"
   ]
  },
  {
   "cell_type": "markdown",
   "metadata": {},
   "source": [
    "Meskipun sudah memfilter hanya pesanan dengan status 'delivered', masih terdapat beberapa nilai yang hilang. Ini adalah sebuah kejanggalan karena pesanan yang sudah 'delivered' seharusnya memiliki data lengkap untuk semua tanggal. Imputasi akan dilakukan supaya data masih bisa digunakan untuk analisis selanjutnya."
   ]
  },
  {
   "cell_type": "markdown",
   "metadata": {},
   "source": [
    "**order_approved_at (14 missing values):** Imputasi dengan tanggal pembelian plus median waktu persetujuan dari data yang ada"
   ]
  },
  {
   "cell_type": "code",
   "execution_count": 16,
   "metadata": {},
   "outputs": [],
   "source": [
    "# Hitung median waktu antara pembelian dan persetujuan\n",
    "approval_delay = (pd.to_datetime(orders_df['order_approved_at']) - pd.to_datetime(orders_df['order_purchase_timestamp'])).median()\n",
    "\n",
    "# Isi nilai yang hilang\n",
    "orders_df['order_approved_at'] = pd.to_datetime(orders_df['order_approved_at']).fillna(pd.to_datetime(orders_df['order_purchase_timestamp']) + approval_delay)"
   ]
  },
  {
   "cell_type": "markdown",
   "metadata": {},
   "source": [
    "**order_delivered_carrier_date (2 missing values) dan order_delivered_customer_date (8 missing values):** Karena jumlahnya sangat sedikit, dan data-data tersebut seharusnya memiliki nilai untuk pesanan 'delivered', kemungkinan ini adalah kesalahan data. Opsi terbaik adalah imputasi berdasarkan pola waktu pengiriman."
   ]
  },
  {
   "cell_type": "code",
   "execution_count": 17,
   "metadata": {},
   "outputs": [],
   "source": [
    "# Untuk carrier date yang hilang\n",
    "carrier_delay = (pd.to_datetime(orders_df['order_delivered_carrier_date']) - pd.to_datetime(orders_df['order_approved_at'])).median()\n",
    "orders_df['order_delivered_carrier_date'] = pd.to_datetime(orders_df['order_delivered_carrier_date']).fillna(pd.to_datetime(orders_df['order_approved_at']) + carrier_delay)\n",
    "\n",
    "# Untuk customer date yang hilang\n",
    "delivery_delay = (pd.to_datetime(orders_df['order_delivered_customer_date']) - pd.to_datetime(orders_df['order_delivered_carrier_date'])).median()\n",
    "orders_df['order_delivered_customer_date'] = pd.to_datetime(orders_df['order_delivered_customer_date']).fillna(pd.to_datetime(orders_df['order_delivered_carrier_date']) + delivery_delay)"
   ]
  },
  {
   "cell_type": "code",
   "execution_count": 18,
   "metadata": {},
   "outputs": [
    {
     "data": {
      "text/plain": [
       "order_id                         0\n",
       "customer_id                      0\n",
       "order_status                     0\n",
       "order_purchase_timestamp         0\n",
       "order_approved_at                0\n",
       "order_delivered_carrier_date     0\n",
       "order_delivered_customer_date    0\n",
       "order_estimated_delivery_date    0\n",
       "dtype: int64"
      ]
     },
     "execution_count": 18,
     "metadata": {},
     "output_type": "execute_result"
    }
   ],
   "source": [
    "orders_df.isna().sum()"
   ]
  },
  {
   "cell_type": "markdown",
   "metadata": {},
   "source": [
    "Setelah dicek kembali, orders_df sudah bersih dari missing value"
   ]
  },
  {
   "cell_type": "markdown",
   "metadata": {
    "id": "Q_5ejIqckiSP"
   },
   "source": [
    "**Insight:**\n",
    "- Mayoritas pesanan (97%) memiliki status \"delivered\". Status lain seperti \"shipped\", \"canceled\", \"unavailable\" mewakili porsi kecil. Ini menandakan tingkat penyelesaian transaksi yang tinggi dalam dataset ini.\n",
    "\n",
    "- Bahkan dalam pesanan dengan status \"delivered\", masih terdapat beberapa nilai yang hilang pada kolom-kolom tanggal. Hal ini mengindikasikan adanya inkonsistensi dalam pencatatan data, di mana status menunjukkan pesanan telah selesai tetapi beberapa timestamp penting tidak tercatat.\n",
    "\n",
    "- Setelah pembersihan, dataset masih mempertahankan mayoritas data asli. Ini menunjukkan bahwa meskipun ada masalah kualitas data, sebagian besar data masih dapat digunakan untuk analisis"
   ]
  },
  {
   "cell_type": "markdown",
   "metadata": {
    "id": "gp-Y6wU38DC1"
   },
   "source": [
    "## Exploratory Data Analysis (EDA)"
   ]
  },
  {
   "cell_type": "markdown",
   "metadata": {},
   "source": [
    "### Explore Data orders_df"
   ]
  },
  {
   "cell_type": "markdown",
   "metadata": {},
   "source": [
    "Melihat 5 sampel random dari orders_df"
   ]
  },
  {
   "cell_type": "code",
   "execution_count": 19,
   "metadata": {},
   "outputs": [
    {
     "data": {
      "text/html": [
       "<div>\n",
       "<style scoped>\n",
       "    .dataframe tbody tr th:only-of-type {\n",
       "        vertical-align: middle;\n",
       "    }\n",
       "\n",
       "    .dataframe tbody tr th {\n",
       "        vertical-align: top;\n",
       "    }\n",
       "\n",
       "    .dataframe thead th {\n",
       "        text-align: right;\n",
       "    }\n",
       "</style>\n",
       "<table border=\"1\" class=\"dataframe\">\n",
       "  <thead>\n",
       "    <tr style=\"text-align: right;\">\n",
       "      <th></th>\n",
       "      <th>order_id</th>\n",
       "      <th>customer_id</th>\n",
       "      <th>order_status</th>\n",
       "      <th>order_purchase_timestamp</th>\n",
       "      <th>order_approved_at</th>\n",
       "      <th>order_delivered_carrier_date</th>\n",
       "      <th>order_delivered_customer_date</th>\n",
       "      <th>order_estimated_delivery_date</th>\n",
       "    </tr>\n",
       "  </thead>\n",
       "  <tbody>\n",
       "    <tr>\n",
       "      <th>70822</th>\n",
       "      <td>ba4f4ffc1063e52435824b76fc7933a6</td>\n",
       "      <td>eecb43b5c2dc03262b7b5abefd535b3a</td>\n",
       "      <td>delivered</td>\n",
       "      <td>2017-09-14 13:12:39</td>\n",
       "      <td>2017-09-14 13:25:49</td>\n",
       "      <td>2017-09-19 18:29:00</td>\n",
       "      <td>2017-09-27 18:36:31</td>\n",
       "      <td>2017-10-16</td>\n",
       "    </tr>\n",
       "    <tr>\n",
       "      <th>49098</th>\n",
       "      <td>154b66f3b29e92e4c9fc7f1ad60cb668</td>\n",
       "      <td>6ab80065dfee8f902e6d0fdabb9bf565</td>\n",
       "      <td>delivered</td>\n",
       "      <td>2017-05-16 13:19:09</td>\n",
       "      <td>2017-05-16 13:30:23</td>\n",
       "      <td>2017-05-18 12:15:20</td>\n",
       "      <td>2017-05-25 09:54:04</td>\n",
       "      <td>2017-06-08</td>\n",
       "    </tr>\n",
       "    <tr>\n",
       "      <th>489</th>\n",
       "      <td>d83706c29baf36eedf5e8adfb0da304e</td>\n",
       "      <td>26545a1a15e77138e98380c49a76053a</td>\n",
       "      <td>delivered</td>\n",
       "      <td>2017-03-13 11:36:11</td>\n",
       "      <td>2017-03-13 11:36:11</td>\n",
       "      <td>2017-03-17 15:12:16</td>\n",
       "      <td>2017-03-27 14:12:27</td>\n",
       "      <td>2017-04-12</td>\n",
       "    </tr>\n",
       "    <tr>\n",
       "      <th>97164</th>\n",
       "      <td>2cb5ed8e391a8ef966fe938d480510b1</td>\n",
       "      <td>6ea342594088a8d78a51e55e38053887</td>\n",
       "      <td>delivered</td>\n",
       "      <td>2018-03-03 10:12:47</td>\n",
       "      <td>2018-03-06 03:35:42</td>\n",
       "      <td>2018-03-06 19:27:31</td>\n",
       "      <td>2018-04-11 16:59:50</td>\n",
       "      <td>2018-04-06</td>\n",
       "    </tr>\n",
       "    <tr>\n",
       "      <th>65783</th>\n",
       "      <td>c89b4a3e71b120553e155292938bcc47</td>\n",
       "      <td>7089bc699da551ead2aca09f75273371</td>\n",
       "      <td>delivered</td>\n",
       "      <td>2018-05-08 13:35:33</td>\n",
       "      <td>2018-05-09 13:35:00</td>\n",
       "      <td>2018-05-09 14:43:00</td>\n",
       "      <td>2018-05-14 23:05:44</td>\n",
       "      <td>2018-05-24</td>\n",
       "    </tr>\n",
       "  </tbody>\n",
       "</table>\n",
       "</div>"
      ],
      "text/plain": [
       "                               order_id                       customer_id  \\\n",
       "70822  ba4f4ffc1063e52435824b76fc7933a6  eecb43b5c2dc03262b7b5abefd535b3a   \n",
       "49098  154b66f3b29e92e4c9fc7f1ad60cb668  6ab80065dfee8f902e6d0fdabb9bf565   \n",
       "489    d83706c29baf36eedf5e8adfb0da304e  26545a1a15e77138e98380c49a76053a   \n",
       "97164  2cb5ed8e391a8ef966fe938d480510b1  6ea342594088a8d78a51e55e38053887   \n",
       "65783  c89b4a3e71b120553e155292938bcc47  7089bc699da551ead2aca09f75273371   \n",
       "\n",
       "      order_status order_purchase_timestamp   order_approved_at  \\\n",
       "70822    delivered      2017-09-14 13:12:39 2017-09-14 13:25:49   \n",
       "49098    delivered      2017-05-16 13:19:09 2017-05-16 13:30:23   \n",
       "489      delivered      2017-03-13 11:36:11 2017-03-13 11:36:11   \n",
       "97164    delivered      2018-03-03 10:12:47 2018-03-06 03:35:42   \n",
       "65783    delivered      2018-05-08 13:35:33 2018-05-09 13:35:00   \n",
       "\n",
       "      order_delivered_carrier_date order_delivered_customer_date  \\\n",
       "70822          2017-09-19 18:29:00           2017-09-27 18:36:31   \n",
       "49098          2017-05-18 12:15:20           2017-05-25 09:54:04   \n",
       "489            2017-03-17 15:12:16           2017-03-27 14:12:27   \n",
       "97164          2018-03-06 19:27:31           2018-04-11 16:59:50   \n",
       "65783          2018-05-09 14:43:00           2018-05-14 23:05:44   \n",
       "\n",
       "      order_estimated_delivery_date  \n",
       "70822                    2017-10-16  \n",
       "49098                    2017-06-08  \n",
       "489                      2017-04-12  \n",
       "97164                    2018-04-06  \n",
       "65783                    2018-05-24  "
      ]
     },
     "execution_count": 19,
     "metadata": {},
     "output_type": "execute_result"
    }
   ],
   "source": [
    "orders_df.sample(5) # Show 5 random samples"
   ]
  },
  {
   "cell_type": "markdown",
   "metadata": {},
   "source": [
    "Dataset Brazilian E-Commerce memiliki dua kolom utama yang berkaitan dengan pengiriman:\n",
    "\n",
    "- **order_purchase_timestamp:** Tanggal pelanggan membeli barang tersebut.\n",
    "- **order_delivered_customer_date:** Tanggal pesanan benar-benar diterima pelanggan.\n",
    "\n",
    "Untuk mendapatkan waktu pengiriman dalam hari, dilakukan dengan mencari selisih kedua kolom tersebut"
   ]
  },
  {
   "cell_type": "code",
   "execution_count": 20,
   "metadata": {
    "id": "e9CQCZjk8DC2"
   },
   "outputs": [],
   "source": [
    "# Hitung waktu pengiriman (delivery_time) dalam hari\n",
    "orders_df[\"delivery_time\"] = (orders_df[\"order_delivered_customer_date\"] - orders_df[\"order_purchase_timestamp\"]).dt.days"
   ]
  },
  {
   "cell_type": "code",
   "execution_count": 21,
   "metadata": {},
   "outputs": [
    {
     "data": {
      "text/html": [
       "<div>\n",
       "<style scoped>\n",
       "    .dataframe tbody tr th:only-of-type {\n",
       "        vertical-align: middle;\n",
       "    }\n",
       "\n",
       "    .dataframe tbody tr th {\n",
       "        vertical-align: top;\n",
       "    }\n",
       "\n",
       "    .dataframe thead th {\n",
       "        text-align: right;\n",
       "    }\n",
       "</style>\n",
       "<table border=\"1\" class=\"dataframe\">\n",
       "  <thead>\n",
       "    <tr style=\"text-align: right;\">\n",
       "      <th></th>\n",
       "      <th>order_id</th>\n",
       "      <th>customer_id</th>\n",
       "      <th>order_status</th>\n",
       "      <th>order_purchase_timestamp</th>\n",
       "      <th>order_approved_at</th>\n",
       "      <th>order_delivered_carrier_date</th>\n",
       "      <th>order_delivered_customer_date</th>\n",
       "      <th>order_estimated_delivery_date</th>\n",
       "      <th>delivery_time</th>\n",
       "    </tr>\n",
       "  </thead>\n",
       "  <tbody>\n",
       "    <tr>\n",
       "      <th>0</th>\n",
       "      <td>e481f51cbdc54678b7cc49136f2d6af7</td>\n",
       "      <td>9ef432eb6251297304e76186b10a928d</td>\n",
       "      <td>delivered</td>\n",
       "      <td>2017-10-02 10:56:33</td>\n",
       "      <td>2017-10-02 11:07:15</td>\n",
       "      <td>2017-10-04 19:55:00</td>\n",
       "      <td>2017-10-10 21:25:13</td>\n",
       "      <td>2017-10-18</td>\n",
       "      <td>8</td>\n",
       "    </tr>\n",
       "    <tr>\n",
       "      <th>1</th>\n",
       "      <td>53cdb2fc8bc7dce0b6741e2150273451</td>\n",
       "      <td>b0830fb4747a6c6d20dea0b8c802d7ef</td>\n",
       "      <td>delivered</td>\n",
       "      <td>2018-07-24 20:41:37</td>\n",
       "      <td>2018-07-26 03:24:27</td>\n",
       "      <td>2018-07-26 14:31:00</td>\n",
       "      <td>2018-08-07 15:27:45</td>\n",
       "      <td>2018-08-13</td>\n",
       "      <td>13</td>\n",
       "    </tr>\n",
       "    <tr>\n",
       "      <th>2</th>\n",
       "      <td>47770eb9100c2d0c44946d9cf07ec65d</td>\n",
       "      <td>41ce2a54c0b03bf3443c3d931a367089</td>\n",
       "      <td>delivered</td>\n",
       "      <td>2018-08-08 08:38:49</td>\n",
       "      <td>2018-08-08 08:55:23</td>\n",
       "      <td>2018-08-08 13:50:00</td>\n",
       "      <td>2018-08-17 18:06:29</td>\n",
       "      <td>2018-09-04</td>\n",
       "      <td>9</td>\n",
       "    </tr>\n",
       "    <tr>\n",
       "      <th>3</th>\n",
       "      <td>949d5b44dbf5de918fe9c16f97b45f8a</td>\n",
       "      <td>f88197465ea7920adcdbec7375364d82</td>\n",
       "      <td>delivered</td>\n",
       "      <td>2017-11-18 19:28:06</td>\n",
       "      <td>2017-11-18 19:45:59</td>\n",
       "      <td>2017-11-22 13:39:59</td>\n",
       "      <td>2017-12-02 00:28:42</td>\n",
       "      <td>2017-12-15</td>\n",
       "      <td>13</td>\n",
       "    </tr>\n",
       "    <tr>\n",
       "      <th>4</th>\n",
       "      <td>ad21c59c0840e6cb83a9ceb5573f8159</td>\n",
       "      <td>8ab97904e6daea8866dbdbc4fb7aad2c</td>\n",
       "      <td>delivered</td>\n",
       "      <td>2018-02-13 21:18:39</td>\n",
       "      <td>2018-02-13 22:20:29</td>\n",
       "      <td>2018-02-14 19:46:34</td>\n",
       "      <td>2018-02-16 18:17:02</td>\n",
       "      <td>2018-02-26</td>\n",
       "      <td>2</td>\n",
       "    </tr>\n",
       "  </tbody>\n",
       "</table>\n",
       "</div>"
      ],
      "text/plain": [
       "                           order_id                       customer_id  \\\n",
       "0  e481f51cbdc54678b7cc49136f2d6af7  9ef432eb6251297304e76186b10a928d   \n",
       "1  53cdb2fc8bc7dce0b6741e2150273451  b0830fb4747a6c6d20dea0b8c802d7ef   \n",
       "2  47770eb9100c2d0c44946d9cf07ec65d  41ce2a54c0b03bf3443c3d931a367089   \n",
       "3  949d5b44dbf5de918fe9c16f97b45f8a  f88197465ea7920adcdbec7375364d82   \n",
       "4  ad21c59c0840e6cb83a9ceb5573f8159  8ab97904e6daea8866dbdbc4fb7aad2c   \n",
       "\n",
       "  order_status order_purchase_timestamp   order_approved_at  \\\n",
       "0    delivered      2017-10-02 10:56:33 2017-10-02 11:07:15   \n",
       "1    delivered      2018-07-24 20:41:37 2018-07-26 03:24:27   \n",
       "2    delivered      2018-08-08 08:38:49 2018-08-08 08:55:23   \n",
       "3    delivered      2017-11-18 19:28:06 2017-11-18 19:45:59   \n",
       "4    delivered      2018-02-13 21:18:39 2018-02-13 22:20:29   \n",
       "\n",
       "  order_delivered_carrier_date order_delivered_customer_date  \\\n",
       "0          2017-10-04 19:55:00           2017-10-10 21:25:13   \n",
       "1          2018-07-26 14:31:00           2018-08-07 15:27:45   \n",
       "2          2018-08-08 13:50:00           2018-08-17 18:06:29   \n",
       "3          2017-11-22 13:39:59           2017-12-02 00:28:42   \n",
       "4          2018-02-14 19:46:34           2018-02-16 18:17:02   \n",
       "\n",
       "  order_estimated_delivery_date  delivery_time  \n",
       "0                    2017-10-18              8  \n",
       "1                    2018-08-13             13  \n",
       "2                    2018-09-04              9  \n",
       "3                    2017-12-15             13  \n",
       "4                    2018-02-26              2  "
      ]
     },
     "execution_count": 21,
     "metadata": {},
     "output_type": "execute_result"
    }
   ],
   "source": [
    "orders_df.head()"
   ]
  },
  {
   "cell_type": "code",
   "execution_count": 22,
   "metadata": {},
   "outputs": [
    {
     "data": {
      "text/plain": [
       "count    96478.000000\n",
       "mean        12.093400\n",
       "std          9.551027\n",
       "min          0.000000\n",
       "25%          6.000000\n",
       "50%         10.000000\n",
       "75%         15.000000\n",
       "max        209.000000\n",
       "Name: delivery_time, dtype: float64"
      ]
     },
     "execution_count": 22,
     "metadata": {},
     "output_type": "execute_result"
    }
   ],
   "source": [
    "# Statistik keterlambatan atau kecepatan pengiriman\n",
    "orders_df[\"delivery_time\"].describe()"
   ]
  },
  {
   "cell_type": "markdown",
   "metadata": {},
   "source": [
    "Melihat data tersebut, pengiriman minimal 0 hari dan maksimal sampai 209 hari dengan nilai Q3 15 hari sangat tidak masuk akal sehingga dapat diasumsikan bahwa ada data outlier pada delivery_time. Data outlier disesuaikan menggunakan rumus IQR method, Metode IQR (Interquartile Range) adalah metode yang menetapkan bahwa setiap titik data dalam boxplot yang berada lebih dari 1.5 kali rentang IQR di bawah kuartil pertama atau lebih dari 1.5 kali rentang IQR di atas kuartil ketiga dianggap sebagai outlier."
   ]
  },
  {
   "cell_type": "code",
   "execution_count": 23,
   "metadata": {},
   "outputs": [
    {
     "name": "stdout",
     "output_type": "stream",
     "text": [
      "IQR: 9.0\n",
      "Lower bound: -7.5\n",
      "Upper bound: 28.5\n"
     ]
    },
    {
     "data": {
      "text/plain": [
       "count    91456.000000\n",
       "mean        10.558531\n",
       "std          6.059955\n",
       "min          1.000000\n",
       "25%          6.000000\n",
       "50%          9.000000\n",
       "75%         14.000000\n",
       "max         28.000000\n",
       "Name: delivery_time, dtype: float64"
      ]
     },
     "execution_count": 23,
     "metadata": {},
     "output_type": "execute_result"
    }
   ],
   "source": [
    "# Perbaiki delivery time yang bernilai 0 hari (tidak realistis) menjadi 1 hari\n",
    "orders_df[\"delivery_time\"] = orders_df[\"delivery_time\"].apply(lambda x: max(x, 1))\n",
    "\n",
    "# Identifikasi outlier dengan metode IQR\n",
    "Q1 = orders_df[\"delivery_time\"].quantile(0.25)\n",
    "Q3 = orders_df[\"delivery_time\"].quantile(0.75)\n",
    "IQR = Q3 - Q1\n",
    "\n",
    "# Tentukan batas outlier\n",
    "lower_bound = Q1 - 1.5 * IQR\n",
    "upper_bound = Q3 + 1.5 * IQR\n",
    "\n",
    "print(f\"IQR: {IQR}\")\n",
    "print(f\"Lower bound: {lower_bound}\")\n",
    "print(f\"Upper bound: {upper_bound}\")\n",
    "\n",
    "# Hapus outlier\n",
    "orders_df = orders_df[(orders_df[\"delivery_time\"] >= lower_bound) & (orders_df[\"delivery_time\"] <= upper_bound)]\n",
    "\n",
    "# Statistik waktu pengiriman setelah menghapus outlier\n",
    "orders_df[\"delivery_time\"].describe()"
   ]
  },
  {
   "cell_type": "markdown",
   "metadata": {},
   "source": [
    "Sekarang data sudah terlihat lebih normal dengan waktu pengiriman rata-rata 10.5 hari, minimum 1 hari dan maksimum 26 hari (data di atas 28.5 hari tidak dimasukkan karena melebihi upper bound)"
   ]
  },
  {
   "cell_type": "markdown",
   "metadata": {},
   "source": [
    "### Explore Data order_reviews_df"
   ]
  },
  {
   "cell_type": "code",
   "execution_count": 24,
   "metadata": {},
   "outputs": [
    {
     "data": {
      "text/html": [
       "<div>\n",
       "<style scoped>\n",
       "    .dataframe tbody tr th:only-of-type {\n",
       "        vertical-align: middle;\n",
       "    }\n",
       "\n",
       "    .dataframe tbody tr th {\n",
       "        vertical-align: top;\n",
       "    }\n",
       "\n",
       "    .dataframe thead th {\n",
       "        text-align: right;\n",
       "    }\n",
       "</style>\n",
       "<table border=\"1\" class=\"dataframe\">\n",
       "  <thead>\n",
       "    <tr style=\"text-align: right;\">\n",
       "      <th></th>\n",
       "      <th>review_id</th>\n",
       "      <th>order_id</th>\n",
       "      <th>review_score</th>\n",
       "      <th>review_comment_title</th>\n",
       "      <th>review_comment_message</th>\n",
       "      <th>review_creation_date</th>\n",
       "      <th>review_answer_timestamp</th>\n",
       "    </tr>\n",
       "  </thead>\n",
       "  <tbody>\n",
       "    <tr>\n",
       "      <th>83512</th>\n",
       "      <td>3f53132d2d15315ac748f59961b18039</td>\n",
       "      <td>9ed6ff68c038e8845f2f84d08fba359b</td>\n",
       "      <td>5</td>\n",
       "      <td>No Title</td>\n",
       "      <td>No Comment</td>\n",
       "      <td>2018-08-17</td>\n",
       "      <td>2018-08-20 12:02:43</td>\n",
       "    </tr>\n",
       "    <tr>\n",
       "      <th>40167</th>\n",
       "      <td>4163fcfee4fe5c3c9c80581d15d890df</td>\n",
       "      <td>69bd4e4ff1a990052d8ae84b843ee045</td>\n",
       "      <td>5</td>\n",
       "      <td>No Title</td>\n",
       "      <td>No Comment</td>\n",
       "      <td>2017-06-13</td>\n",
       "      <td>2017-06-16 02:46:44</td>\n",
       "    </tr>\n",
       "    <tr>\n",
       "      <th>46679</th>\n",
       "      <td>f5606c402725a26474a4dd33b37afa55</td>\n",
       "      <td>1534266375dc7e304dd7e81942cb25cd</td>\n",
       "      <td>3</td>\n",
       "      <td>No Title</td>\n",
       "      <td>meu produto veio errado</td>\n",
       "      <td>2018-07-12</td>\n",
       "      <td>2018-07-12 17:44:48</td>\n",
       "    </tr>\n",
       "    <tr>\n",
       "      <th>26178</th>\n",
       "      <td>549c0978b9df3db041e3793d81d001da</td>\n",
       "      <td>21c1039048f32ccc62b779bcfd5ac43d</td>\n",
       "      <td>5</td>\n",
       "      <td>No Title</td>\n",
       "      <td>Entrega rápida, o produto perfeito.</td>\n",
       "      <td>2018-05-08</td>\n",
       "      <td>2018-05-10 13:01:35</td>\n",
       "    </tr>\n",
       "    <tr>\n",
       "      <th>7659</th>\n",
       "      <td>0ab203fa324409ddf46525ed11a406ba</td>\n",
       "      <td>1e6582156af0035606a446213730ca65</td>\n",
       "      <td>5</td>\n",
       "      <td>LANERNA DIFERENTE</td>\n",
       "      <td>Uma lanterna bem diferente para uso geral.</td>\n",
       "      <td>2018-06-06</td>\n",
       "      <td>2018-06-06 19:22:07</td>\n",
       "    </tr>\n",
       "  </tbody>\n",
       "</table>\n",
       "</div>"
      ],
      "text/plain": [
       "                              review_id                          order_id  \\\n",
       "83512  3f53132d2d15315ac748f59961b18039  9ed6ff68c038e8845f2f84d08fba359b   \n",
       "40167  4163fcfee4fe5c3c9c80581d15d890df  69bd4e4ff1a990052d8ae84b843ee045   \n",
       "46679  f5606c402725a26474a4dd33b37afa55  1534266375dc7e304dd7e81942cb25cd   \n",
       "26178  549c0978b9df3db041e3793d81d001da  21c1039048f32ccc62b779bcfd5ac43d   \n",
       "7659   0ab203fa324409ddf46525ed11a406ba  1e6582156af0035606a446213730ca65   \n",
       "\n",
       "       review_score review_comment_title  \\\n",
       "83512             5             No Title   \n",
       "40167             5             No Title   \n",
       "46679             3             No Title   \n",
       "26178             5             No Title   \n",
       "7659              5    LANERNA DIFERENTE   \n",
       "\n",
       "                           review_comment_message review_creation_date  \\\n",
       "83512                                  No Comment           2018-08-17   \n",
       "40167                                  No Comment           2017-06-13   \n",
       "46679                    meu produto veio errado            2018-07-12   \n",
       "26178         Entrega rápida, o produto perfeito.           2018-05-08   \n",
       "7659   Uma lanterna bem diferente para uso geral.           2018-06-06   \n",
       "\n",
       "      review_answer_timestamp  \n",
       "83512     2018-08-20 12:02:43  \n",
       "40167     2017-06-16 02:46:44  \n",
       "46679     2018-07-12 17:44:48  \n",
       "26178     2018-05-10 13:01:35  \n",
       "7659      2018-06-06 19:22:07  "
      ]
     },
     "execution_count": 24,
     "metadata": {},
     "output_type": "execute_result"
    }
   ],
   "source": [
    "order_reviews_df.sample(5) # Show 5 random samples"
   ]
  },
  {
   "cell_type": "code",
   "execution_count": 25,
   "metadata": {},
   "outputs": [
    {
     "data": {
      "text/plain": [
       "review_score\n",
       "5    57328\n",
       "4    19142\n",
       "1    11424\n",
       "3     8179\n",
       "2     3151\n",
       "Name: count, dtype: int64"
      ]
     },
     "execution_count": 25,
     "metadata": {},
     "output_type": "execute_result"
    }
   ],
   "source": [
    "order_reviews_df[\"review_score\"].value_counts()"
   ]
  },
  {
   "cell_type": "markdown",
   "metadata": {},
   "source": [
    "Bintang 5 adalah nilai ulasan terbanyak yang diberikan oleh pelanggan"
   ]
  },
  {
   "cell_type": "markdown",
   "metadata": {},
   "source": [
    "### Explore All Data"
   ]
  },
  {
   "cell_type": "code",
   "execution_count": 26,
   "metadata": {},
   "outputs": [
    {
     "data": {
      "text/html": [
       "<div>\n",
       "<style scoped>\n",
       "    .dataframe tbody tr th:only-of-type {\n",
       "        vertical-align: middle;\n",
       "    }\n",
       "\n",
       "    .dataframe tbody tr th {\n",
       "        vertical-align: top;\n",
       "    }\n",
       "\n",
       "    .dataframe thead th {\n",
       "        text-align: right;\n",
       "    }\n",
       "</style>\n",
       "<table border=\"1\" class=\"dataframe\">\n",
       "  <thead>\n",
       "    <tr style=\"text-align: right;\">\n",
       "      <th></th>\n",
       "      <th>review_id</th>\n",
       "      <th>order_id</th>\n",
       "      <th>review_score</th>\n",
       "      <th>review_comment_title</th>\n",
       "      <th>review_comment_message</th>\n",
       "      <th>review_creation_date</th>\n",
       "      <th>review_answer_timestamp</th>\n",
       "      <th>customer_id</th>\n",
       "      <th>order_status</th>\n",
       "      <th>order_purchase_timestamp</th>\n",
       "      <th>order_approved_at</th>\n",
       "      <th>order_delivered_carrier_date</th>\n",
       "      <th>order_delivered_customer_date</th>\n",
       "      <th>order_estimated_delivery_date</th>\n",
       "      <th>delivery_time</th>\n",
       "    </tr>\n",
       "  </thead>\n",
       "  <tbody>\n",
       "    <tr>\n",
       "      <th>40701</th>\n",
       "      <td>839334184a22c4705f8a1ae43ea0eab6</td>\n",
       "      <td>2e82339ec0f39a69be776815f3bac508</td>\n",
       "      <td>4</td>\n",
       "      <td>No Title</td>\n",
       "      <td>o produto veio correto, a barra magnética aten...</td>\n",
       "      <td>2018-02-02</td>\n",
       "      <td>2018-02-05 12:11:53</td>\n",
       "      <td>66d5a520e4f7af2cdc4f725d8d8ed705</td>\n",
       "      <td>delivered</td>\n",
       "      <td>2018-01-29 22:49:11</td>\n",
       "      <td>2018-01-29 23:11:20</td>\n",
       "      <td>2018-01-30 19:37:08</td>\n",
       "      <td>2018-02-01 17:54:54</td>\n",
       "      <td>2018-02-16</td>\n",
       "      <td>2</td>\n",
       "    </tr>\n",
       "    <tr>\n",
       "      <th>66289</th>\n",
       "      <td>469d5afe7af797c63fa2ad0730d080fa</td>\n",
       "      <td>2c453858db792dfba1340601d2814b28</td>\n",
       "      <td>4</td>\n",
       "      <td>No Title</td>\n",
       "      <td>ccccccccc cccccccc ccccc ccc</td>\n",
       "      <td>2018-03-29</td>\n",
       "      <td>2018-03-31 17:59:54</td>\n",
       "      <td>fc583cfdde5d391a98d0f17d30209677</td>\n",
       "      <td>delivered</td>\n",
       "      <td>2018-03-16 11:13:44</td>\n",
       "      <td>2018-03-16 11:29:28</td>\n",
       "      <td>2018-03-22 19:48:38</td>\n",
       "      <td>2018-03-28 20:04:12</td>\n",
       "      <td>2018-04-12</td>\n",
       "      <td>12</td>\n",
       "    </tr>\n",
       "    <tr>\n",
       "      <th>34357</th>\n",
       "      <td>f8844abb0daf6953644fb977e399ad0a</td>\n",
       "      <td>b001a9f70c34cbf4eca4e48875de711c</td>\n",
       "      <td>5</td>\n",
       "      <td>No Title</td>\n",
       "      <td>No Comment</td>\n",
       "      <td>2018-06-26</td>\n",
       "      <td>2018-06-28 19:35:07</td>\n",
       "      <td>787d7b6a8571b25652a185aae5ebc9b7</td>\n",
       "      <td>delivered</td>\n",
       "      <td>2018-06-19 17:05:20</td>\n",
       "      <td>2018-06-19 17:45:06</td>\n",
       "      <td>2018-06-20 13:25:00</td>\n",
       "      <td>2018-06-25 20:51:50</td>\n",
       "      <td>2018-07-20</td>\n",
       "      <td>6</td>\n",
       "    </tr>\n",
       "    <tr>\n",
       "      <th>52439</th>\n",
       "      <td>c5d326330fa0e0bab4652aeeeff6f809</td>\n",
       "      <td>8a80054573ee01a321c77752da93566b</td>\n",
       "      <td>5</td>\n",
       "      <td>No Title</td>\n",
       "      <td>No Comment</td>\n",
       "      <td>2017-12-05</td>\n",
       "      <td>2017-12-06 09:31:04</td>\n",
       "      <td>8f7a8c9d811d4acc07eaaf3cae69ac34</td>\n",
       "      <td>delivered</td>\n",
       "      <td>2017-11-24 07:46:21</td>\n",
       "      <td>2017-11-24 07:56:31</td>\n",
       "      <td>2017-11-28 15:48:30</td>\n",
       "      <td>2017-12-04 22:56:39</td>\n",
       "      <td>2017-12-15</td>\n",
       "      <td>10</td>\n",
       "    </tr>\n",
       "    <tr>\n",
       "      <th>19985</th>\n",
       "      <td>fe5a30167589783662527e9203624c00</td>\n",
       "      <td>2cd938176e6aaa529800d96e692e9c6b</td>\n",
       "      <td>5</td>\n",
       "      <td>Ótimo produto</td>\n",
       "      <td>Produto muito bonito, chegou antes do prazo re...</td>\n",
       "      <td>2018-08-09</td>\n",
       "      <td>2018-08-16 20:30:13</td>\n",
       "      <td>67a3c95ffc4184739559faccab4612e0</td>\n",
       "      <td>delivered</td>\n",
       "      <td>2018-08-05 20:20:16</td>\n",
       "      <td>2018-08-05 20:35:16</td>\n",
       "      <td>2018-08-06 11:51:00</td>\n",
       "      <td>2018-08-08 13:29:04</td>\n",
       "      <td>2018-08-10</td>\n",
       "      <td>2</td>\n",
       "    </tr>\n",
       "  </tbody>\n",
       "</table>\n",
       "</div>"
      ],
      "text/plain": [
       "                              review_id                          order_id  \\\n",
       "40701  839334184a22c4705f8a1ae43ea0eab6  2e82339ec0f39a69be776815f3bac508   \n",
       "66289  469d5afe7af797c63fa2ad0730d080fa  2c453858db792dfba1340601d2814b28   \n",
       "34357  f8844abb0daf6953644fb977e399ad0a  b001a9f70c34cbf4eca4e48875de711c   \n",
       "52439  c5d326330fa0e0bab4652aeeeff6f809  8a80054573ee01a321c77752da93566b   \n",
       "19985  fe5a30167589783662527e9203624c00  2cd938176e6aaa529800d96e692e9c6b   \n",
       "\n",
       "       review_score review_comment_title  \\\n",
       "40701             4             No Title   \n",
       "66289             4             No Title   \n",
       "34357             5             No Title   \n",
       "52439             5             No Title   \n",
       "19985             5        Ótimo produto   \n",
       "\n",
       "                                  review_comment_message review_creation_date  \\\n",
       "40701  o produto veio correto, a barra magnética aten...           2018-02-02   \n",
       "66289                       ccccccccc cccccccc ccccc ccc           2018-03-29   \n",
       "34357                                         No Comment           2018-06-26   \n",
       "52439                                         No Comment           2017-12-05   \n",
       "19985  Produto muito bonito, chegou antes do prazo re...           2018-08-09   \n",
       "\n",
       "      review_answer_timestamp                       customer_id order_status  \\\n",
       "40701     2018-02-05 12:11:53  66d5a520e4f7af2cdc4f725d8d8ed705    delivered   \n",
       "66289     2018-03-31 17:59:54  fc583cfdde5d391a98d0f17d30209677    delivered   \n",
       "34357     2018-06-28 19:35:07  787d7b6a8571b25652a185aae5ebc9b7    delivered   \n",
       "52439     2017-12-06 09:31:04  8f7a8c9d811d4acc07eaaf3cae69ac34    delivered   \n",
       "19985     2018-08-16 20:30:13  67a3c95ffc4184739559faccab4612e0    delivered   \n",
       "\n",
       "      order_purchase_timestamp   order_approved_at  \\\n",
       "40701      2018-01-29 22:49:11 2018-01-29 23:11:20   \n",
       "66289      2018-03-16 11:13:44 2018-03-16 11:29:28   \n",
       "34357      2018-06-19 17:05:20 2018-06-19 17:45:06   \n",
       "52439      2017-11-24 07:46:21 2017-11-24 07:56:31   \n",
       "19985      2018-08-05 20:20:16 2018-08-05 20:35:16   \n",
       "\n",
       "      order_delivered_carrier_date order_delivered_customer_date  \\\n",
       "40701          2018-01-30 19:37:08           2018-02-01 17:54:54   \n",
       "66289          2018-03-22 19:48:38           2018-03-28 20:04:12   \n",
       "34357          2018-06-20 13:25:00           2018-06-25 20:51:50   \n",
       "52439          2017-11-28 15:48:30           2017-12-04 22:56:39   \n",
       "19985          2018-08-06 11:51:00           2018-08-08 13:29:04   \n",
       "\n",
       "      order_estimated_delivery_date  delivery_time  \n",
       "40701                    2018-02-16              2  \n",
       "66289                    2018-04-12             12  \n",
       "34357                    2018-07-20              6  \n",
       "52439                    2017-12-15             10  \n",
       "19985                    2018-08-10              2  "
      ]
     },
     "execution_count": 26,
     "metadata": {},
     "output_type": "execute_result"
    }
   ],
   "source": [
    "# Menggabungkan data orders dan reviews berdasarkan order_id\n",
    "cleaned_df = pd.merge(order_reviews_df, orders_df, on='order_id', how='inner')\n",
    "cleaned_df.sample(5)"
   ]
  },
  {
   "cell_type": "code",
   "execution_count": 27,
   "metadata": {},
   "outputs": [],
   "source": [
    "# Save the all_data to a CSV file\n",
    "cleaned_df.to_csv(\"dashboard/main_data.csv\", index=False)"
   ]
  },
  {
   "cell_type": "markdown",
   "metadata": {
    "id": "th_Lzl2Fkj9O"
   },
   "source": [
    "**Insight:**\n",
    "- Secara umum, pelanggan menerima barangnya dalam waktu sekitar 10 hingga 11 hari setelah pesanan dibuat.\n",
    "- Meski sudah membuang outlier, persebaran waktu pengiriman (6 hari di atas/bawah rata-rata) masih cukup luas. Ini mengindikasikan adanya nilai variasi yang signifikan dalam proses pengiriman. Ada pelanggan yang menerima barang dalam 1–2 hari, tapi ada juga yang menunggu hingga 2–3 minggu."
   ]
  },
  {
   "cell_type": "markdown",
   "metadata": {
    "id": "zsyZjqak8DC2"
   },
   "source": [
    "## Visualization & Explanatory Analysis"
   ]
  },
  {
   "cell_type": "markdown",
   "metadata": {},
   "source": [
    "### Pertanyaan 1: Berapa lama pelanggan harus menunggu untuk menerima pesanan barang yang dibeli?"
   ]
  },
  {
   "cell_type": "markdown",
   "metadata": {},
   "source": [
    "Pertanyaan ini akan dijawab dengan visualisasi Histogram dan grafik CDF (Cumulative Distribution Function)\n",
    "\n",
    "Histogram dapat menampilkan frekuensi setiap rentang (bin) waktu pengiriman, sehingga dapat melihat pola apakah data cenderung terkumpul di rentang tertentu (misalnya 5–10 hari) atau tersebar. Penambahan KDE (Kernel Density Estimate) membantu melihat kurva halus yang mewakili kepadatan data, memberikan gambaran lebih jelas tentang puncak (peak) distribusi. Ini dapat menjawab seberapa umum waktu pengiriman tertentu dan apakah distribusinya condong (skewed) ke kanan/kiri.\n",
    "\n",
    "CDF dapat menunjukkan persentase kumulatif pesanan yang telah terkirim hingga hari tertentu. Dengan menambahkan garis bantu pada 50%, 80%, dan 95%. CDF memudahkan membaca persentase pesanan yang tiba dalam rentang waktu tertentu, sehingga akan diketahui “50% pesanan tiba dalam X hari,” “80% dalam Y hari,” dll."
   ]
  },
  {
   "cell_type": "code",
   "execution_count": 28,
   "metadata": {},
   "outputs": [
    {
     "name": "stdout",
     "output_type": "stream",
     "text": [
      "Statistik Waktu Pengiriman (dalam hari):\n",
      "count    91438.000000\n",
      "mean        10.557449\n",
      "std          6.056640\n",
      "min          1.000000\n",
      "25%          6.000000\n",
      "50%          9.000000\n",
      "75%         14.000000\n",
      "max         28.000000\n",
      "Name: delivery_time, dtype: float64\n"
     ]
    },
    {
     "data": {
      "image/png": "[encoded data removed]",
      "text/plain": [
       "<Figure size 1200x800 with 2 Axes>"
      ]
     },
     "metadata": {},
     "output_type": "display_data"
    }
   ],
   "source": [
    "# 1. Analisis statistik deskriptif waktu pengiriman\n",
    "delivery_stats = cleaned_df[\"delivery_time\"].describe()\n",
    "print(\"Statistik Waktu Pengiriman (dalam hari):\")\n",
    "print(delivery_stats)\n",
    "\n",
    "# 2. Visualisasi distribusi waktu pengiriman\n",
    "plt.figure(figsize=(12, 8))\n",
    "\n",
    "# Histogram dan KDE untuk distribusi waktu pengiriman\n",
    "plt.subplot(2, 1, 1)\n",
    "sns.histplot(cleaned_df[\"delivery_time\"], kde=True, color=\"steelblue\")\n",
    "plt.title(\"Distribusi Waktu Pengiriman\")\n",
    "plt.xlabel(\"Waktu Pengiriman (hari)\")\n",
    "plt.ylabel(\"Frekuensi\")\n",
    "\n",
    "# Cumulative distribution function (CDF) - persentase pesanan berdasarkan waktu tunggu\n",
    "plt.subplot(2, 1, 2)\n",
    "count, bins_count = np.histogram(cleaned_df[\"delivery_time\"], bins=30)\n",
    "pdf = count / sum(count)\n",
    "cdf = np.cumsum(pdf)\n",
    "plt.plot(bins_count[1:], cdf, label=\"CDF\", marker=\".\", color=\"steelblue\")\n",
    "plt.axhline(y=0.5, color=\"red\", linestyle=\"--\", label=\"50% pesanan\")\n",
    "plt.axhline(y=0.8, color=\"green\", linestyle=\"--\", label=\"80% pesanan\")\n",
    "plt.axhline(y=0.95, color=\"orange\", linestyle=\"--\", label=\"95% pesanan\")\n",
    "plt.title(\"Distribusi Kumulatif Waktu Pengiriman\")\n",
    "plt.xlabel(\"Waktu Pengiriman (hari)\")\n",
    "plt.ylabel(\"Persentase Kumulatif\")\n",
    "plt.legend()\n",
    "\n",
    "# Increase vertical space between subplots\n",
    "plt.subplots_adjust(hspace=0.5)\n",
    "\n",
    "plt.savefig(\"delivery_time_analysis.png\", dpi=300)\n",
    "plt.show()"
   ]
  },
  {
   "cell_type": "markdown",
   "metadata": {},
   "source": [
    "1. Analisis Histogram Distribusi Waktu Pengiriman\n",
    "\n",
    "    Histogram menunjukkan bahwa waktu **pengiriman paling umum terjadi dalam rentang 5 hingga 10 hari, dengan puncak frekuensi sekitar 8 hari**.\n",
    "    Distribusi memiliki ekor panjang ke kanan, menunjukkan bahwa ada beberapa pesanan yang membutuhkan waktu lebih lama untuk dikirim, hingga lebih dari 25 hari. **Sebagian besar pesanan dikirim dalam kurang dari 15 hari**, tetapi ada variabilitas yang cukup besar dalam waktu pengiriman.\n",
    "    Pola ini mengindikasikan bahwa meskipun mayoritas pengiriman terjadi dalam waktu yang wajar, ada sejumlah pesanan yang mengalami keterlambatan signifikan.\n",
    "\n",
    "2. Analisis Distribusi Kumulatif Waktu Pengiriman (CDF)\n",
    "\n",
    "    Grafik CDF menunjukkan persentase kumulatif pesanan yang telah terkirim dalam rentang waktu tertentu.\n",
    "    Garis merah menunjukkan bahwa sekitar **50% pesanan terkirim dalam waktu sekitar 9 hari.**\n",
    "    Garis hijau menunjukkan bahwa sekitar **80% pesanan terkirim dalam 15-20 hari.**\n",
    "    Garis oranye menunjukkan bahwa sekitar **95% pesanan terkirim dalam waktu sekitar 20-25 hari.**\n",
    "    Kurva CDF memiliki pertumbuhan yang lebih cepat di bagian awal (0-10 hari), yang menandakan bahwa sebagian besar pesanan dikirim dalam waktu yang relatif singkat. Namun, pertumbuhannya melambat setelah 15 hari, menunjukkan bahwa sebagian kecil pesanan mengalami waktu pengiriman yang jauh lebih lama dari rata-rata."
   ]
  },
  {
   "cell_type": "markdown",
   "metadata": {
    "id": "HZxOiQ6n8DC2"
   },
   "source": [
    "### Pertanyaan 2: Apakah korelasi antara nilai ulasan terhadap waktu pengiriman barang?"
   ]
  },
  {
   "cell_type": "markdown",
   "metadata": {},
   "source": [
    "Analisis ini dimulai dengan menghitung nilai korelasi antara skor ulasan dan waktu pengiriman menggunakan fungsi corr() pada dataframe yang telah digabungkan, yang bertujuan untuk memberikan ukuran statistik mengenai seberapa kuat hubungan linier antara kedua variabel tersebut. Pendekatan ini memungkinkan untuk mengetahui apakah terdapat kecenderungan bahwa pengiriman yang lebih cepat berhubungan dengan ulasan yang lebih tinggi atau sebaliknya, sehingga menyediakan dasar kuantitatif untuk analisis lebih lanjut.\n",
    "\n",
    "Visualisasi pertama yang digunakan adalah boxplot, yang menampilkan distribusi waktu pengiriman untuk setiap nilai ulasan. Dengan boxplot, dapat dengan mudah mengidentifikasi rentang, median, dan potensi outlier dari waktu pengiriman pada masing-masing kategori ulasan. Hal ini membantu untuk melihat variasi dan kecenderungan distribusi waktu pengiriman di berbagai tingkat kepuasan pelanggan, sehingga memberikan gambaran visual yang mendalam mengenai hubungan antara dua variabel tersebut.\n",
    "\n",
    "Selanjutnya, kode ini juga menyertakan grouped barplot dan heatmap untuk memperkaya analisis. Grouped barplot menampilkan rata-rata waktu pengiriman untuk setiap skor ulasan, yang memudahkan interpretasi perbandingan antara kategori ulasan secara kuantitatif. Sementara itu, heatmap dibuat dengan mengelompokkan waktu pengiriman ke dalam kategori rentang tertentu, sehingga dapat memperlihatkan jumlah ulasan pada masing-masing kategori waktu pengiriman untuk setiap skor. Kombinasi visualisasi ini memberikan pemahaman yang lebih komprehensif mengenai pola dan distribusi waktu pengiriman terkait dengan kepuasan pelanggan."
   ]
  },
  {
   "cell_type": "code",
   "execution_count": 29,
   "metadata": {
    "id": "1swJUdAD8DC2"
   },
   "outputs": [
    {
     "name": "stdout",
     "output_type": "stream",
     "text": [
      "Korelasi antara nilai ulasan dan waktu pengiriman: -0.1720\n"
     ]
    },
    {
     "data": {
      "image/png": "[encoded data removed]",
      "text/plain": [
       "<Figure size 1200x1200 with 4 Axes>"
      ]
     },
     "metadata": {},
     "output_type": "display_data"
    }
   ],
   "source": [
    "# Menghitung korelasi antara review_score dan delivery_time\n",
    "correlation = cleaned_df['review_score'].corr(cleaned_df['delivery_time'])\n",
    "print(f\"Korelasi antara nilai ulasan dan waktu pengiriman: {correlation:.4f}\")\n",
    "\n",
    "plt.figure(figsize=(12, 12))  # Ubah tinggi figure agar cukup untuk 4 grafik ke bawah\n",
    "\n",
    "# A. Boxplot: Distribusi waktu pengiriman untuk setiap nilai ulasan\n",
    "plt.subplot(3, 1, 1)  \n",
    "sns.boxplot(x='review_score', y='delivery_time', data=cleaned_df)\n",
    "plt.title('Distribusi Waktu Pengiriman per Nilai Ulasan')\n",
    "plt.xlabel('Nilai Ulasan')\n",
    "plt.ylabel('Waktu Pengiriman (hari)')\n",
    "\n",
    "# B. Grouped barplot: Rata-rata waktu pengiriman per nilai ulasan\n",
    "plt.subplot(3, 1, 2)  \n",
    "avg_delivery_by_score = cleaned_df.groupby('review_score')['delivery_time'].mean().reset_index()\n",
    "sns.barplot(x='review_score', y='delivery_time', data=avg_delivery_by_score)\n",
    "plt.title('Rata-rata Waktu Pengiriman per Nilai Ulasan')\n",
    "plt.xlabel('Nilai Ulasan')\n",
    "plt.ylabel('Rata-rata Waktu Pengiriman (hari)')\n",
    "\n",
    "# C. Heatmap: Jumlah ulasan berdasarkan score dan range waktu pengiriman\n",
    "plt.subplot(3, 1, 3)  \n",
    "cleaned_df['delivery_time_category'] = pd.cut(cleaned_df['delivery_time'], \n",
    "                                             bins=[0, 5, 10, 15, 20, 25, 30], \n",
    "                                             labels=['1-5', '6-10', '11-15', '16-20', '21-25', '26-30'])\n",
    "heatmap_data = pd.crosstab(cleaned_df['review_score'], cleaned_df['delivery_time_category'])\n",
    "sns.heatmap(heatmap_data, annot=True, cmap='YlGnBu', fmt='d')\n",
    "plt.title('Distribusi Ulasan berdasarkan Waktu Pengiriman')\n",
    "plt.xlabel('Kategori Waktu Pengiriman (hari)')\n",
    "plt.ylabel('Nilai Ulasan')\n",
    "\n",
    "plt.subplots_adjust(hspace=0.5)\n",
    "\n",
    "plt.savefig('review_vs_delivery_time_vertical.png')\n",
    "plt.show()"
   ]
  },
  {
   "cell_type": "markdown",
   "metadata": {},
   "source": [
    "Dari visualisasi ini, dapat diambil kesimpulan terkait hubungan antara waktu pengiriman dan nilai ulasan pelanggan:\n",
    "\n",
    "1. Hubungan Negatif antara Waktu Pengiriman dan Nilai Ulasan (boxplot dan bar chart)\n",
    "\n",
    "    **Terlihat bahwa semakin tinggi nilai ulasan (skor 5), semakin rendah rata-rata waktu pengiriman. Sebaliknya, ulasan dengan skor 1 cenderung memiliki waktu pengiriman yang lebih lama.** Hal ini menunjukkan bahwa pelanggan lebih cenderung memberikan ulasan negatif jika pengiriman mereka memakan waktu lebih lama.\n",
    "\n",
    "2. Distribusi Ulasan Berdasarkan Kategori Waktu Pengiriman (heatmap)\n",
    "\n",
    "    **Mayoritas ulasan dengan skor 5 terjadi pada kategori waktu pengiriman 1-5 hari dan 6-10 hari, yang memiliki angka tertinggi (13.281 dan 21.329 ulasan)**. Semakin lama waktu pengiriman, semakin sedikit jumlah ulasan yang diberikan dengan skor tinggi. Skor 1 lebih banyak muncul pada waktu pengiriman yang lebih lama, menunjukkan bahwa pengiriman yang terlambat meningkatkan kemungkinan ulasan negatif."
   ]
  },
  {
   "cell_type": "markdown",
   "metadata": {
    "id": "_0-36BDLklRg"
   },
   "source": [
    "**Insight:**\n",
    "- Waktu pengiriman yang paling umum adalah antara 5 hingga 10 hari, dengan median sekitar 9 hari. 80% pesanan tiba dalam 15 hari, yang dapat dijadikan sebagai acuan untuk mengukur performa pengiriman. Sekitar 5% pesanan mengalami keterlambatan lebih dari 23 hari, yang menunjukkan adanya kasus outlier atau masalah logistik yang perlu diperhatikan.\n",
    "- Pengiriman yang lebih cepat berkontribusi pada kepuasan pelanggan yang lebih tinggi, sementara keterlambatan cenderung meningkatkan ulasan negatif. Mempercepat waktu pengiriman dapat menjadi strategi efektif untuk meningkatkan rating dan loyalitas pelanggan."
   ]
  },
  {
   "cell_type": "markdown",
   "metadata": {
    "id": "9y4VUsmcYNZ5"
   },
   "source": [
    "## Analisis Lanjutan (Opsional)\n",
    "\n",
    "Penggunaan teknik clustering dalam analisis waktu pengiriman dengan memanfaatkan bins=[0, 5, 10, 15, 20, 25, 30] merupakan pendekatan yang efektif untuk mengkonversi data kontinu menjadi kategori diskrit yang terdefinisi dengan jelas. Dengan membagi waktu pengiriman ke dalam interval tertentu, data yang awalnya kompleks dan tersebar dapat diorganisir dalam kelompok-kelompok homogen, sehingga memudahkan evaluasi dan perbandingan antar kelompok. Pendekatan ini memungkinkan untuk menyederhanakan analisis statistik dan meminimalisasi noise yang muncul dari variabilitas data mentah.\n",
    "\n",
    "Selain itu, teknik clustering ini mendukung visualisasi data yang lebih informatif dan mudah diinterpretasikan. Representasi grafis seperti heatmap, boxplot, dan bar chart yang mengelompokkan data berdasarkan interval waktu pengiriman menyediakan gambaran yang komprehensif mengenai distribusi dan kecenderungan pengiriman. Visualisasi tersebut membantu dalam mengidentifikasi pola-pola penting, misalnya hubungan antara durasi pengiriman dan tingkat kepuasan pelanggan, sehingga dapat mengungkap insight yang berharga untuk pengambilan keputusan.\n",
    "\n",
    "Secara keseluruhan, penerapan metode clustering berbasis interval waktu pengiriman menghasilkan struktur data yang lebih terorganisir dan memberikan pemahaman mendalam terhadap distribusi pengiriman dalam konteks operasional. Hasil analisis ini berkontribusi pada pengembangan strategi logistik yang lebih tepat sasaran, dengan menetapkan target waktu pengiriman yang realistis dan mengoptimalkan proses guna meningkatkan kualitas layanan serta kepuasan pelanggan."
   ]
  },
  {
   "cell_type": "markdown",
   "metadata": {
    "id": "_WeHlCeX8DC2"
   },
   "source": [
    "## Conclusion"
   ]
  },
  {
   "cell_type": "markdown",
   "metadata": {
    "id": "ZTcyR48Y8DC2"
   },
   "source": [
    "- **Berapa lama pelanggan harus menunggu untuk menerima pesanan barang yang dibeli?** Pelanggan e-commerce Brazil umumnya harus menunggu sekitar 9 hari untuk menerima pesanan mereka, dengan 50% pesanan tiba dalam waktu tersebut. Sekitar 80% pesanan dikirim dalam 15-20 hari, sementara 95% pesanan tiba dalam waktu kurang dari 25 hari. Meskipun sebagian besar pesanan dikirim dalam waktu yang wajar, ada beberapa kasus keterlambatan yang signifikan, yang dapat memengaruhi pengalaman pelanggan.\n",
    "\n",
    "- **Apakah korelasi antara nilai ulasan terhadap waktu pengiriman barang?** Terdapat korelasi negatif antara nilai ulasan dan waktu pengiriman barang di e-commerce Brazil. Semakin lama waktu pengiriman, semakin rendah rata-rata skor ulasan yang diberikan pelanggan. Sebagian besar ulasan dengan skor tinggi (5) berasal dari pesanan yang dikirim dalam 1-10 hari, sedangkan ulasan dengan skor rendah (1) lebih sering muncul pada pengiriman yang lebih lama. Hal ini menunjukkan bahwa keterlambatan pengiriman berdampak signifikan terhadap kepuasan pelanggan dan cenderung meningkatkan kemungkinan ulasan negatif."
   ]
  }
 ],
 "metadata": {
  "colab": {
   "provenance": []
  },
  "kernelspec": {
   "display_name": "proyek_analisis_data-P3xev4av",
   "language": "python",
   "name": "python3"
  },
  "language_info": {
   "codemirror_mode": {
    "name": "ipython",
    "version": 3
   },
   "file_extension": ".py",
   "mimetype": "text/x-python",
   "name": "python",
   "nbconvert_exporter": "python",
   "pygments_lexer": "ipython3",
   "version": "3.13.2"
  }
 },
 "nbformat": 4,
 "nbformat_minor": 4
}
